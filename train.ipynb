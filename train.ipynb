{
 "cells": [
  {
   "attachments": {},
   "cell_type": "markdown",
   "metadata": {},
   "source": [
    "* install openAi version of clip API"
   ]
  },
  {
   "cell_type": "code",
   "execution_count": 1,
   "metadata": {},
   "outputs": [
    {
     "name": "stdout",
     "output_type": "stream",
     "text": [
      "Requirement already satisfied: openai-clip in /Users/fangzheng/anaconda3/lib/python3.10/site-packages (1.0.1)\n",
      "Requirement already satisfied: tqdm in /Users/fangzheng/anaconda3/lib/python3.10/site-packages (from openai-clip) (4.65.0)\n",
      "Requirement already satisfied: regex in /Users/fangzheng/anaconda3/lib/python3.10/site-packages (from openai-clip) (2023.10.3)\n",
      "Requirement already satisfied: ftfy in /Users/fangzheng/anaconda3/lib/python3.10/site-packages (from openai-clip) (6.2.0)\n",
      "Requirement already satisfied: wcwidth<0.3.0,>=0.2.12 in /Users/fangzheng/anaconda3/lib/python3.10/site-packages (from ftfy->openai-clip) (0.2.13)\n"
     ]
    }
   ],
   "source": [
    "!pip install openai-clip"
   ]
  },
  {
   "cell_type": "code",
   "execution_count": 2,
   "metadata": {},
   "outputs": [
    {
     "name": "stderr",
     "output_type": "stream",
     "text": [
      "/var/folders/pn/q7mmpvpx5n36lk_j6p9gqk4c0000gn/T/ipykernel_56519/1017408313.py:9: TqdmExperimentalWarning: Using `tqdm.autonotebook.tqdm` in notebook mode. Use `tqdm.tqdm` instead to force console mode (e.g. in jupyter console)\n",
      "  from tqdm.autonotebook import tqdm\n"
     ]
    }
   ],
   "source": [
    "import os\n",
    "import clip\n",
    "import torch\n",
    "from torchvision.datasets import CIFAR100\n",
    "from torch import nn\n",
    "from torchvision.transforms import Compose, Resize, ToTensor\n",
    "from clip.simple_tokenizer import SimpleTokenizer as _Tokenizer\n",
    "import torch.optim as optim\n",
    "from tqdm.autonotebook import tqdm\n",
    "from collections import OrderedDict\n",
    "import torch.nn.functional as F\n",
    "from torch.optim import lr_scheduler\n",
    "import netron\n",
    "import torch.onnx\n",
    "from torch.autograd import Variable\n",
    "_tokenizer = _Tokenizer()"
   ]
  },
  {
   "cell_type": "code",
   "execution_count": 3,
   "metadata": {},
   "outputs": [],
   "source": [
    "device = (\n",
    "    \"mps\"\n",
    "    if torch.backends.mps.is_available()\n",
    "    else \"cuda\"\n",
    "    if torch.cuda.is_available()\n",
    "    else \"cpu\"\n",
    ")\n",
    "model, preprocess = clip.load('ViT-B/32', device)"
   ]
  },
  {
   "attachments": {},
   "cell_type": "markdown",
   "metadata": {},
   "source": [
    "## Performance Test over zero-shot"
   ]
  },
  {
   "cell_type": "code",
   "execution_count": 21,
   "metadata": {},
   "outputs": [],
   "source": [
    "\n",
    "from tqdm import tqdm\n",
    "cifar100 = CIFAR100(root=os.path.join(os.getcwd(), 'dataset'), download=True, train=False)\n",
    "def evaluate_model(cifar100):\n",
    "    correct = 0\n",
    "    total = len(cifar100)\n",
    "    text_inputs = torch.cat([clip.tokenize(f\"a photo of a {c}\") for c in cifar100.classes]).to(device)\n",
    "    with torch.no_grad():\n",
    "        text_features = model.encode_text(text_inputs)\n",
    "    text_features /= text_features.norm(dim=-1, keepdim=True)\n",
    "    print(f'text_features:\\n{text_features.shape}')\n",
    "    with torch.no_grad(), tqdm(total=len(cifar100)) as pbar:\n",
    "        for i in range(len(cifar100)):\n",
    "            image, class_id = cifar100[i]\n",
    "            image = image\n",
    "            image_input = preprocess(image).unsqueeze(0).to(device)\n",
    "            with torch.no_grad():\n",
    "                image_features = model.encode_image(image_input)\n",
    "            image_features /= image_features.norm(dim=-1, keepdim=True).to(device)\n",
    "            similarity = (100.0 * image_features @ text_features.T).softmax(dim=-1)\n",
    "            values, indices = similarity[0].topk(1)\n",
    "            if indices[0] == class_id:\n",
    "                correct += 1\n",
    "            pbar.update(1)  #\n",
    "            if i % 1000 == 0:\n",
    "                pbar.set_description(f\"Accuracy: {correct / (i + 1) * 100:.2f}%\")\n",
    "    print(f'before CoOp acc: {correct / total * 100:.2f}% ')\n",
    "    return correct / total * 100\n"
   ]
  },
  {
   "cell_type": "code",
   "execution_count": 1,
   "metadata": {},
   "outputs": [
    {
     "name": "stdout",
     "output_type": "stream",
     "text": [
      "acc is 61.62 %\n"
     ]
    }
   ],
   "source": [
    "acc = evaluate_model(cifar100)\n",
    "print(f'acc is {acc} %')"
   ]
  },
  {
   "attachments": {},
   "cell_type": "markdown",
   "metadata": {},
   "source": [
    "* It can be found that although there is a certain zeroshot ability, but not before the fine-tuning of a particular dataset his understanding is limited, for complex backgrounds or environments of the picture text2live limited ability to manipulate the root of the model to contact the input text and the corresponding picture of the semantics of the ability to limited"
   ]
  },
  {
   "attachments": {},
   "cell_type": "markdown",
   "metadata": {},
   "source": [
    "* load the cifar100 dataset to test the network performance"
   ]
  },
  {
   "cell_type": "code",
   "execution_count": 6,
   "metadata": {},
   "outputs": [
    {
     "name": "stdout",
     "output_type": "stream",
     "text": [
      "Files already downloaded and verified\n"
     ]
    }
   ],
   "source": [
    "cifar100_data = CIFAR100(root=os.path.join(os.getcwd(), 'dataset'), train=False, transform=preprocess,download=True)"
   ]
  },
  {
   "cell_type": "code",
   "execution_count": 22,
   "metadata": {},
   "outputs": [
    {
     "name": "stdout",
     "output_type": "stream",
     "text": [
      "Initial context: \"a photo of a\"\n",
      "Number of context words (tokens): 4\n"
     ]
    }
   ],
   "source": [
    "ctx_init = 'a photo_of a'\n",
    "ctx_init = ctx_init.replace(\"_\", \" \")\n",
    "n_ctx = len(ctx_init.split(\" \"))\n",
    "prompt_prefix = ctx_init\n",
    "print(f'Initial context: \"{prompt_prefix}\"')\n",
    "print(f\"Number of context words (tokens): {n_ctx}\")"
   ]
  },
  {
   "attachments": {},
   "cell_type": "markdown",
   "metadata": {},
   "source": [
    "## Define the vector from the word embedding of the whole sentence\n",
    "* 100 is for 100 type of classes\n",
    "* 77 is embedded 'a photo of a {class}'\n",
    "* 512 is dimension of the word embeddeding\n",
    "* since we want to construct $[v_1(x)][v_2(x)][v_3(x)][v_4(x)]{class} $, which means first four places required grad and the last one is the class should be static. This means we will get the prompt embedding automatically to let our model have the best understand the text and image.\n",
    "* $[v_1(x)][v_2(x)][v_3(x)][v_4(x)]{class} $ here x is the image embedding after preprocessing, we want our network combine both image information and text in the dataset\n",
    "* the following part, we only get the context words trainable (here is 'a photo of a' and length is 4), we will make automatic calculation base on that."
   ]
  },
  {
   "cell_type": "code",
   "execution_count": null,
   "metadata": {},
   "outputs": [],
   "source": [
    "def get_tokens(prompt_prefix:str,  classnames:list):\n",
    "  classnames = [name.replace(\"_\", \" \") for name in classnames]\n",
    "  name_lens = [len(_tokenizer.encode(name)) for name in classnames]\n",
    "  prompts = [prompt_prefix + \" \" + name + \".\" for name in classnames]\n",
    "\n",
    "  tokenized_prompts = torch.cat([clip.tokenize(p) for p in prompts]).to(device)  # (n_cls, n_tkn)\n",
    "  with torch.no_grad():\n",
    "    embedding = model.token_embedding(tokenized_prompts).type(model.dtype)  # (n_cls, n_tkn, dim)\n",
    "\n",
    "  token_prefix = nn.Parameter(embedding[:, :1, :], requires_grad=False).to(device)  # (n_cls, 1, dim)\n",
    "  token_suffix = nn.Parameter(embedding[:, 1 + n_ctx:, :], requires_grad=False).to(device)  # (n_cls, 1, dim)\n",
    "  trainable_hidden_state = nn.Parameter(embedding[:, 1:1 + n_ctx,:].clone(),requires_grad=True).to(device)\n",
    "  return token_prefix, token_suffix, tokenized_prompts, trainable_hidden_state"
   ]
  },
  {
   "cell_type": "code",
   "execution_count": null,
   "metadata": {},
   "outputs": [],
   "source": [
    "token_prefix, token_suffix, tokenized_prompts, trainable_hidden_state = get_tokens(prompt_prefix, cifar100_data.classes)"
   ]
  },
  {
   "attachments": {},
   "cell_type": "markdown",
   "metadata": {},
   "source": [
    "* define the subnet to capture the features of the input image information to help to construct the prompt text"
   ]
  },
  {
   "cell_type": "code",
   "execution_count": 32,
   "metadata": {},
   "outputs": [],
   "source": [
    "class MetaNet(nn.Module):\n",
    "    def __init__(self, net):\n",
    "        super(MetaNet, self).__init__()\n",
    "        self.net = net\n",
    "\n",
    "    def forward(self, x):\n",
    "        return self.net(x)\n",
    "\n",
    "vis_dim = model.visual.output_dim # 512\n",
    "ctx_dim = model.ln_final.weight.shape[0] # 512\n",
    "\n",
    "meta_net = nn.Sequential(OrderedDict([\n",
    "            (\"linear1\", nn.Linear(vis_dim, vis_dim // 16)),\n",
    "            (\"relu\", nn.ReLU(inplace=True)),\n",
    "            (\"linear2\", nn.Linear(vis_dim // 16, ctx_dim))\n",
    "        ])).type(model.dtype).to(device)\n",
    "meta_net = MetaNet(meta_net).type(model.dtype).to(device)\n"
   ]
  },
  {
   "cell_type": "code",
   "execution_count": null,
   "metadata": {},
   "outputs": [],
   "source": [
    "def construct_prompts(im_features,token_prefix,token_suffix,trainable_hidden_state,len_classes):\n",
    "\n",
    "  bias = meta_net(im_features).to(device) # (batch, ctx_dim)\n",
    "\n",
    "  bias = bias.unsqueeze(1).to(device)   # (batch, 1, ctx_dim) 16,1,512\n",
    "  \n",
    "  trainable_hidden_state = trainable_hidden_state.mean(dim=0, keepdim=True) # \n",
    "  trainable_hidden_state_shifted = trainable_hidden_state + bias           \n",
    "  \n",
    "  prompts = []\n",
    "  for hidden_shifted_i in trainable_hidden_state_shifted:\n",
    "      hid_i = hidden_shifted_i.unsqueeze(0).expand(len_classes, -1, -1)\n",
    "      pts_i = torch.cat((token_prefix, hid_i, token_suffix),dim=1)\n",
    "      prompts.append(pts_i)\n",
    "  prompts = torch.stack(prompts).to(device)\n",
    "  return prompts"
   ]
  },
  {
   "attachments": {},
   "cell_type": "markdown",
   "metadata": {},
   "source": [
    "* define tools\n",
    "* text_encoder to encode the prompt to add positional information there"
   ]
  },
  {
   "cell_type": "code",
   "execution_count": null,
   "metadata": {},
   "outputs": [],
   "source": [
    "def text_encoder(prompt_all,tokenized_prompts):\n",
    "  x = prompt_all + model.positional_embedding.type(model.dtype)\n",
    "  x = x.permute(1, 0, 2)  # NLD -> LND\n",
    "  x = model.transformer(x)\n",
    "  x = x.permute(1, 0, 2)  # LND -> NLD\n",
    "  x = model.ln_final(x).type(model.dtype)\n",
    "\n",
    "  # take features from the eot embedding (eot_token is the highest number in each sequence)\n",
    "  x = x[torch.arange(x.shape[0]), tokenized_prompts.argmax(dim=-1)] @ model.text_projection\n",
    "  return x"
   ]
  },
  {
   "attachments": {},
   "cell_type": "markdown",
   "metadata": {},
   "source": [
    "* Define the analytical metrics\n",
    "    * this will calculate the accumulated loss in each epoch"
   ]
  },
  {
   "cell_type": "code",
   "execution_count": null,
   "metadata": {},
   "outputs": [],
   "source": [
    "class AvgMeter:\n",
    "    def __init__(self, name=\"Metric\"):\n",
    "        self.name = name\n",
    "        self.reset()\n",
    "\n",
    "    def reset(self):\n",
    "        self.avg, self.sum, self.count = [0] * 3\n",
    "\n",
    "    def update(self, val, count=1):\n",
    "        self.count += count\n",
    "        self.sum += val * count\n",
    "        self.avg = self.sum / self.count\n",
    "\n",
    "    def __repr__(self):\n",
    "        text = f\"{self.name}: {self.avg:.4f}\"\n",
    "        return text\n"
   ]
  },
  {
   "attachments": {},
   "cell_type": "markdown",
   "metadata": {},
   "source": [
    "* define forward propagation\n",
    "    * use image feature and text to build prompt template \n",
    "    * find the prompt template that can maximize the similarity between the text and image"
   ]
  },
  {
   "cell_type": "code",
   "execution_count": null,
   "metadata": {},
   "outputs": [],
   "source": [
    "def forward_(images_batch, labels_batch=None):\n",
    "    image_features = model.encode_image(images_batch)\n",
    "    image_features_norm = image_features.norm(dim=-1, keepdim=True)\n",
    "    image_features = image_features / image_features_norm\n",
    "    prompt_all = construct_prompts(image_features,token_prefix,token_suffix,trainable_hidden_state,len(cifar100_data.classes))\n",
    "    similarity_list = []\n",
    "    for pts_i, imf_i in zip(prompt_all,image_features):\n",
    "        text_features = text_encoder(pts_i,tokenized_prompts)\n",
    "        text_features = text_features / text_features.norm(dim=-1, keepdim=True)\n",
    "        similarity = (100.0 * image_features @ text_features.T).softmax(dim=-1)\n",
    "        similarity_list.append(similarity)\n",
    "    similarity_list = torch.stack(similarity_list)\n",
    "    if model.train and labels_batch!=None:\n",
    "        return F.cross_entropy(similarity_list.mean(dim=0), labels_batch)\n",
    "    else:\n",
    "        return similarity_list"
   ]
  },
  {
   "attachments": {},
   "cell_type": "markdown",
   "metadata": {},
   "source": [
    "* use CosineAnnealingLR to adjust the learning rate every 2 epoch automatically\n",
    "* $\\begin{align}\\eta_{t}=\\eta_{m i n}+\\frac{1}{2}(\\eta_{m a x}-\\eta_{m i n})\\left(1+\\cos\\left(\\frac{T_{c u r}}{T_{m a x}}\\pi\\right)\\right),\\ \\ \\ T_{c u r}\\neq(2k+1)T_{m a x};\\end{align}$\n",
    "* $\\begin{align}\\eta_{t+1}=\\eta_{t}+\\frac{1}{2}(\\eta_{m a x}-\\eta_{m i n})\\left(1-\\cos\\left(\\frac{1}{T_{m a x}}\\pi\\right)\\right),\\qquad T_{c u r}=(2k+1)T_{m a x}.\\end{align}$\n",
    "* $ \\begin{align}\\eta_{t}=\\eta_{m i n}+\\frac{1}{2}(\\eta_{m a x}-\\eta_{m i n})\\left(1+\\cos\\left(\\frac{T_{c u r}}{T_{m a x}}\\pi\\right)\\right)\\end{align}$"
   ]
  },
  {
   "cell_type": "code",
   "execution_count": null,
   "metadata": {},
   "outputs": [],
   "source": [
    "optimizer = optim.SGD(list(meta_net.parameters()) + [trainable_hidden_state], lr=0.0001)\n",
    "scheduler = lr_scheduler.CosineAnnealingLR(optimizer, T_max=2)"
   ]
  },
  {
   "cell_type": "code",
   "execution_count": null,
   "metadata": {},
   "outputs": [],
   "source": [
    "dataloader = torch.utils.data.DataLoader(cifar100_data, batch_size=16, shuffle=True)\n",
    "num_of_epoch = 20\n",
    "for epoch in range(num_of_epoch):\n",
    "    model.train()\n",
    "    scheduler.step()\n",
    "    avg_loss = AvgMeter()\n",
    "    progress_bar = tqdm(dataloader, desc=f'Epoch {epoch + 1}/{num_of_epoch}')\n",
    "    for images_batch, labels_batch in progress_bar:\n",
    "        images_batch = images_batch.to(device) # [batch_size, 3, 224, 224]\n",
    "        labels_batch = labels_batch.to(device)\n",
    "\n",
    "        loss = forward_(images_batch, labels_batch)\n",
    "\n",
    "        optimizer.zero_grad()\n",
    "        loss.backward()\n",
    "        optimizer.step()\n",
    "        avg_loss.update(loss.item())\n",
    "        progress_bar.set_postfix({'loss': avg_loss.avg})\n",
    "    torch.save(meta_net.state_dict(), f'models/meta_net_{epoch+1}.pth')\n",
    "    torch.save(trainable_hidden_state, f'models/trainable_hidden_state_{epoch+1}.pth')\n",
    "    progress_bar.close()\n",
    "  #     pbar.update(1)\n",
    "    print('Epoch:', epoch+1, 'Loss:', avg_loss.avg)"
   ]
  },
  {
   "attachments": {},
   "cell_type": "markdown",
   "metadata": {},
   "source": [
    "## Analyze"
   ]
  },
  {
   "cell_type": "code",
   "execution_count": 41,
   "metadata": {},
   "outputs": [
    {
     "data": {
      "text/plain": [
       "MetaNet(\n",
       "  (net): Sequential(\n",
       "    (linear1): Linear(in_features=512, out_features=32, bias=True)\n",
       "    (relu): ReLU(inplace=True)\n",
       "    (linear2): Linear(in_features=32, out_features=512, bias=True)\n",
       "  )\n",
       ")"
      ]
     },
     "execution_count": 41,
     "metadata": {},
     "output_type": "execute_result"
    }
   ],
   "source": [
    "meta_net = nn.Sequential(OrderedDict([\n",
    "            (\"linear1\", nn.Linear(vis_dim, vis_dim // 16)),\n",
    "            (\"relu\", nn.ReLU(inplace=True)),\n",
    "            (\"linear2\", nn.Linear(vis_dim // 16, ctx_dim))\n",
    "        ])).type(model.dtype).to(device)\n",
    "meta_net = MetaNet(meta_net).type(model.dtype).to(device)\n",
    "\n",
    "device = torch.device('cpu')\n",
    "meta_net.load_state_dict(torch.load('models/meta_net_13.pth',map_location=torch.device('cpu')))\n",
    "trainable_hidden_state = torch.load('models/trainable_hidden_state_13.pth',map_location=torch.device('cpu'))\n",
    "if trainable_hidden_state.device != device:\n",
    "    trainable_hidden_state = trainable_hidden_state.to(device)  # \n",
    "meta_net.to(device)"
   ]
  },
  {
   "attachments": {},
   "cell_type": "markdown",
   "metadata": {},
   "source": [
    "* after train test the zero shot performance"
   ]
  },
  {
   "cell_type": "code",
   "execution_count": 56,
   "metadata": {},
   "outputs": [],
   "source": [
    "def zeroshot_evalution(model,dataset):\n",
    "    model.eval()\n",
    "    dataloader_for_evalution = torch.utils.data.DataLoader(dataset, batch_size=6, shuffle=True)\n",
    "    correct = 0\n",
    "    total = 0\n",
    "    \n",
    "    with torch.no_grad(), tqdm(total=len(dataloader_for_evalution)) as pbar:\n",
    "        for images_batch, labels_batch in dataloader_for_evalution:\n",
    "            images_batch, labels_batch = images_batch.to(device), labels_batch.to(device)\n",
    "            similarity_list = forward_(images_batch)\n",
    "            similarity = similarity_list.mean(dim=0)\n",
    "            predicted_labels = similarity.argmax( dim=-1)\n",
    "            correct += (predicted_labels == labels_batch).sum().item()\n",
    "            total += labels_batch.size(0)\n",
    "            pbar.update(1)\n",
    "    accuracy = correct / total * 100\n",
    "    return accuracy"
   ]
  },
  {
   "cell_type": "code",
   "execution_count": 58,
   "metadata": {},
   "outputs": [
    {
     "name": "stdout",
     "output_type": "stream",
     "text": [
      "acc is 70.01 %\n"
     ]
    }
   ],
   "source": [
    "accuracy = zeroshot_evalution(model,cifar100_data)\n",
    "\n",
    "print(f'acc is {accuracy} %')\n"
   ]
  },
  {
   "attachments": {},
   "cell_type": "markdown",
   "metadata": {},
   "source": [
    "## Interpreting the learned prompts\n",
    "* using L1 distance between trained embedding and word table\n",
    "* The L1 distance is used to measure the similarity between the output and the cue. A smaller L1 distance indicates that the output is closer to the corresponding cue, while a larger L1 distance indicates a larger difference between the output and the cue."
   ]
  },
  {
   "cell_type": "code",
   "execution_count": null,
   "metadata": {},
   "outputs": [],
   "source": [
    "import torch\n",
    "\n",
    "from clip.simple_tokenizer import SimpleTokenizer\n",
    "from clip import clip\n",
    "device = \"cuda\" if torch.cuda.is_available() else \"cpu\"\n",
    "model, preprocess = clip.load('ViT-B/32', device)\n",
    "\n",
    "# prompts = trainable_hidden_state\n",
    "prompts = torch.load('/kaggle/input/coop10/trainable_hidden_state.pth')\n",
    "topk = 3\n",
    "tokenizer = SimpleTokenizer()\n",
    "token_embedding = model.token_embedding.weight\n",
    "print(f\"Size of token embedding: {token_embedding.shape}\")\n"
   ]
  },
  {
   "cell_type": "code",
   "execution_count": 119,
   "metadata": {},
   "outputs": [
    {
     "name": "stdout",
     "output_type": "stream",
     "text": [
      "words: ['a</w>', 'an</w>', '0']\t score:[3.139602643973693, 1.658628156624872, 1.3943265328171548]\t distance: ['0.0433', '0.1904', '0.2480']\n",
      "words: ['photo</w>', 'photos</w>', 'pic</w>']\t score:[3.116770601931047, 1.373575588712116, 1.3582901647102932]\t distance: ['0.0443', '0.2532', '0.2571']\n",
      "words: ['of</w>', '0', '1']\t score:[2.2643263808769554, 1.3795173768408668, 1.3795173768408668]\t distance: ['0.1039', '0.2517', '0.2517']\n",
      "words: ['a</w>', 'an</w>', '0']\t score:[2.7473109150555124, 1.6357818877737023, 1.4085399700672103]\t distance: ['0.0641', '0.1948', '0.2445']\n",
      "\n"
     ]
    }
   ],
   "source": [
    "import numpy as np\n",
    "\n",
    "for i in range(prompts.shape[1]):\n",
    "    \n",
    "    word_i = prompts[:,i,:].mean(dim=0)\n",
    "    distance = torch.cdist(word_i.type(model.dtype).unsqueeze(0), token_embedding.type(model.dtype))\n",
    "    sorted_idxs = torch.argsort(distance, dim=1)\n",
    "    sorted_idxs = sorted_idxs[:, :topk]\n",
    "    for m, idxs in enumerate(sorted_idxs):\n",
    "        \n",
    "        words = [tokenizer.decoder[idx.item()] for idx in idxs]\n",
    "        dist = [f\"{distance[m, idx].item():.4f}\" for idx in idxs]\n",
    "        score = ([-np.log(float(d)) for (d) in dist])\n",
    "        print(f\"words: {words}\\t score:{score}\\t distance: {dist}\")\n"
   ]
  },
  {
   "cell_type": "code",
   "execution_count": 118,
   "metadata": {},
   "outputs": [
    {
     "data": {
      "image/png": "[encoded data removed]",
      "text/plain": [
       "<Figure size 800x350 with 4 Axes>"
      ]
     },
     "metadata": {},
     "output_type": "display_data"
    }
   ],
   "source": [
    "data = {\n",
    "    'vecotr 1': {'words': ['a</w>', 'an</w>', '0'], 'scores': [3.139602643973693, 1.658628156624872, 1.3943265328171548]},\n",
    "    'vecotr 2': {'words': ['photo</w>', 'photos</w>', 'pic</w>'], 'scores': [3.116770601931047, 1.373575588712116, 1.3582901647102932]},\n",
    "    'vecotr 3': {'words': ['of</w>', '0', '1'], 'scores': [2.2643263808769554, 1.3795173768408668, 1.3795173768408668]},\n",
    "    'vecotr 4': {'words': ['a</w>', 'an</w>', '0'], 'scores': [2.7473109150555124, 1.6357818877737023, 1.4085399700672103]}\n",
    "}\n",
    "\n",
    "import matplotlib.pyplot as plt\n",
    "\n",
    "labels = list(data.keys())\n",
    "word_lists = [data[label]['words'] for label in labels]\n",
    "scores_lists = [data[label]['scores'] for label in labels]\n",
    "\n",
    "fig, axes = plt.subplots(2, 2, figsize=(8, 3.5))\n",
    "\n",
    "for i, ax in enumerate(axes.flatten()):\n",
    "    word_list = word_lists[i]\n",
    "    scores_list = scores_lists[i]\n",
    "    x = range(len(word_list))\n",
    "    ax.bar(x, scores_list, color='skyblue')\n",
    "    ax.set_xticks(x)\n",
    "    ax.set_xticklabels(word_list)\n",
    "    ax.set_title(labels[i])\n",
    "    ax.set_ylabel('Score')\n",
    "\n",
    "plt.tight_layout()\n",
    "plt.show()\n"
   ]
  },
  {
   "attachments": {},
   "cell_type": "markdown",
   "metadata": {},
   "source": [
    "* The -log of the distance of the two embedding is defined as socre, and the higher the score, the closer the word is to the trained prompt word. I calculated and output top3 similar words, I can find that the output is still a black box, the highest is plus garbled English."
   ]
  },
  {
   "attachments": {},
   "cell_type": "markdown",
   "metadata": {},
   "source": [
    "* visualization"
   ]
  },
  {
   "cell_type": "code",
   "execution_count": 86,
   "metadata": {},
   "outputs": [
    {
     "name": "stdout",
     "output_type": "stream",
     "text": [
      "================ Diagnostic Run torch.onnx.export version 2.0.1 ================\n",
      "verbose: False, log level: Level.ERROR\n",
      "======================= 0 NONE 0 NOTE 0 WARNING 0 ERROR ========================\n",
      "\n",
      "Serving './meta_net.pth' at http://localhost:21107\n"
     ]
    },
    {
     "data": {
      "text/plain": [
       "('localhost', 21107)"
      ]
     },
     "execution_count": 86,
     "metadata": {},
     "output_type": "execute_result"
    }
   ],
   "source": [
    "modelData = \"./meta_net.pth\"  # \n",
    "batch_size = 16\n",
    "dim = model.visual.output_dim # 512\n",
    "x = torch.randn(batch_size, dim)  \n",
    "torch.onnx.export(meta_net, x, modelData)  \n",
    "netron.start(modelData)  # "
   ]
  },
  {
   "attachments": {
    "image.png": {
     "image/png": "[encoded data removed]"
    }
   },
   "cell_type": "markdown",
   "metadata": {},
   "source": [
    "* ![image.png](attachment:image.png)"
   ]
  }
 ],
 "metadata": {
  "kernelspec": {
   "display_name": "base",
   "language": "python",
   "name": "python3"
  },
  "language_info": {
   "codemirror_mode": {
    "name": "ipython",
    "version": 3
   },
   "file_extension": ".py",
   "mimetype": "text/x-python",
   "name": "python",
   "nbconvert_exporter": "python",
   "pygments_lexer": "ipython3",
   "version": "3.10.13"
  },
  "orig_nbformat": 4
 },
 "nbformat": 4,
 "nbformat_minor": 2
}
